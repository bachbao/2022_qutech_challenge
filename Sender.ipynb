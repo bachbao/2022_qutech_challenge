{
 "cells": [
  {
   "cell_type": "markdown",
   "id": "62291384",
   "metadata": {},
   "source": [
    "# User\n",
    "## Import Library and set intial value"
   ]
  },
  {
   "cell_type": "code",
   "execution_count": 3,
   "id": "9f22812f",
   "metadata": {},
   "outputs": [],
   "source": [
    "import numpy as np\n",
    "import sys\n",
    "from Adafruit_IO import MQTTClient\n",
    "import random\n",
    "import time\n",
    "import serial.tools.list_ports"
   ]
  },
  {
   "cell_type": "code",
   "execution_count": 4,
   "id": "0179fa1c",
   "metadata": {},
   "outputs": [],
   "source": [
    "size_of_msg = 5"
   ]
  },
  {
   "cell_type": "markdown",
   "id": "b2c76aa3",
   "metadata": {},
   "source": [
    "## Prerpare the random bases\n",
    "#### Because this is just a demonstration, therefore, we  will use this file to send both data from user A and user B at the same time. This will not affect the fact that user A and user B are using different computer and do not know about each other bases yet."
   ]
  },
  {
   "cell_type": "code",
   "execution_count": 5,
   "id": "190216bc",
   "metadata": {},
   "outputs": [],
   "source": [
    "def Sender_random_bases(size,seed):\n",
    "    np.random.seed(seed)\n",
    "    random_bases = np.random.randint(2, size=size) # Here we let bases = 0,1 corresponding to bases X,Z\n",
    "    return random_bases"
   ]
  },
  {
   "cell_type": "code",
   "execution_count": 6,
   "id": "86c86f31",
   "metadata": {},
   "outputs": [],
   "source": [
    "random_bases_A = Sender_random_bases(size_of_msg,0)"
   ]
  },
  {
   "cell_type": "code",
   "execution_count": 7,
   "id": "09e47a3d",
   "metadata": {},
   "outputs": [],
   "source": [
    "random_bases_B = Sender_random_bases(size_of_msg,1)"
   ]
  },
  {
   "cell_type": "markdown",
   "id": "c5e0cd82",
   "metadata": {},
   "source": [
    "## Protocol for the user to send and receive from intermediate interface\n",
    "We will use MQTT protocol to illustrate the idea of QKD and we will use MQTT as it can easily be use by multiple users. In this code, we use Adafruit server with 3 feed:\n",
    "* intermediate-interface\n",
    "* user-a\n",
    "* user-b\n",
    "\n",
    "In the code below, we will illustrate the function of user A although we will send 2 data (another one on behalf of user B for demonstrating purpose). User A will publish to the feed intermediate-interface (same as sending data to intermediate interface) and User A will subcribe to feed user-a in order to get to measured result."
   ]
  },
  {
   "cell_type": "code",
   "execution_count": 8,
   "id": "7c853fc8",
   "metadata": {},
   "outputs": [],
   "source": [
    "AIO_FEED_ID_1 = \"intermediate-interface\"\n",
    "AIO_FEED_ID_A = \"user-a\"\n",
    "AIO_FEED_ID_B = \"user-b\"\n",
    "AIO_USERNAME  = \"bbace\"\n",
    "AIO_KEY       = \"aio_bPYP32NOKkrTiko7nYSwDr9YlTfz\""
   ]
  },
  {
   "cell_type": "code",
   "execution_count": 9,
   "id": "e9ecdf86",
   "metadata": {},
   "outputs": [],
   "source": [
    "def processData(data):\n",
    "    global A_measured_result\n",
    "    global B_bases_buffer\n",
    "    global size_of_msg\n",
    "    splitData = data.split(\":\")\n",
    "    if(splitData[0] == 'UserA_result'):\n",
    "        size_of_msg = int(splitData[1])\n",
    "        c = 1\n",
    "        for i in range(size_of_msg):\n",
    "            A_measured_result.append(int(splitData[2][i+c]))\n",
    "            c += 1\n",
    "    elif(splitData[0] == 'UserB_bases'):\n",
    "        size_of_msg = int(splitData[1])\n",
    "        c = 1\n",
    "        for i in range(size_of_msg):\n",
    "            B_bases_buffer.append(int(splitData[2][i+c]))\n",
    "            c += 1"
   ]
  },
  {
   "cell_type": "code",
   "execution_count": 10,
   "id": "d7f0fba9",
   "metadata": {},
   "outputs": [],
   "source": [
    "def connected(client):\n",
    "    print (\"Successfully connected ...\")\n",
    "    client.subscribe (AIO_FEED_ID_A)\n",
    "def subscribe(client , userdata , mid , granted_qos ):\n",
    "    print(\" Subcribe sucessfully...\")\n",
    "\n",
    "def disconnected( client ):\n",
    "    print(\" Disconnected...\")\n",
    "    sys.exit (1)\n",
    "\n",
    "#After getting the result, A will annouce to B her measure bases\n",
    "def message(client , feed_id , payload):\n",
    "    print(\"Received data: \"+ feed_id +\" \"+payload )\n",
    "    processData(payload)\n",
    "    client.publish(AIO_FEED_ID_B, \"UserA_bases:\"+str(size_of_msg)+':'+str(random_bases_A))"
   ]
  },
  {
   "cell_type": "code",
   "execution_count": 11,
   "id": "665226d2",
   "metadata": {},
   "outputs": [],
   "source": [
    "A_measured_result = []\n",
    "B_bases_buffer = []"
   ]
  },
  {
   "cell_type": "code",
   "execution_count": 12,
   "id": "f1e1d71f",
   "metadata": {},
   "outputs": [],
   "source": [
    "client = MQTTClient (AIO_USERNAME , AIO_KEY)\n",
    "client.on_connect = connected\n",
    "client.on_disconnect = disconnected\n",
    "client.on_message = message\n",
    "client.on_subscribe = subscribe\n",
    "client.connect()\n",
    "client.loop_background()"
   ]
  },
  {
   "cell_type": "code",
   "execution_count": 13,
   "id": "db67ec8b",
   "metadata": {},
   "outputs": [
    {
     "name": "stdout",
     "output_type": "stream",
     "text": [
      "Connected to Adafruit IO!\n",
      "Successfully connected ...\n",
      " Subcribe sucessfully...\n"
     ]
    },
    {
     "name": "stderr",
     "output_type": "stream",
     "text": [
      "Exception in thread Thread-6:\n",
      "Traceback (most recent call last):\n",
      "  File \"C:\\Users\\DELL\\anaconda3\\lib\\threading.py\", line 932, in _bootstrap_inner\n",
      "    self.run()\n",
      "  File \"C:\\Users\\DELL\\anaconda3\\lib\\threading.py\", line 870, in run\n",
      "    self._target(*self._args, **self._kwargs)\n",
      "  File \"C:\\Users\\DELL\\anaconda3\\lib\\site-packages\\paho\\mqtt\\client.py\", line 3452, in _thread_main\n",
      "    self.loop_forever(retry_first_connection=True)\n",
      "  File \"C:\\Users\\DELL\\anaconda3\\lib\\site-packages\\paho\\mqtt\\client.py\", line 1779, in loop_forever\n",
      "    rc = self.loop(timeout, max_packets)\n",
      "  File \"C:\\Users\\DELL\\anaconda3\\lib\\site-packages\\paho\\mqtt\\client.py\", line 1181, in loop\n",
      "    rc = self.loop_read(max_packets)\n",
      "  File \"C:\\Users\\DELL\\anaconda3\\lib\\site-packages\\paho\\mqtt\\client.py\", line 1572, in loop_read\n",
      "    rc = self._packet_read()\n",
      "  File \"C:\\Users\\DELL\\anaconda3\\lib\\site-packages\\paho\\mqtt\\client.py\", line 2310, in _packet_read\n",
      "    rc = self._packet_handle()\n",
      "  File \"C:\\Users\\DELL\\anaconda3\\lib\\site-packages\\paho\\mqtt\\client.py\", line 2936, in _packet_handle\n",
      "    return self._handle_publish()\n",
      "  File \"C:\\Users\\DELL\\anaconda3\\lib\\site-packages\\paho\\mqtt\\client.py\", line 3216, in _handle_publish\n",
      "    self._handle_on_message(message)\n",
      "  File \"C:\\Users\\DELL\\anaconda3\\lib\\site-packages\\paho\\mqtt\\client.py\", line 3444, in _handle_on_message\n",
      "    self.on_message(self, self._userdata, message)\n",
      "  File \"C:\\Users\\DELL\\anaconda3\\lib\\site-packages\\Adafruit_IO\\mqtt_client.py\", line 129, in _mqtt_message\n",
      "    self.on_message(self, topic, payload)\n",
      "  File \"<ipython-input-10-263184394564>\", line 14, in message\n",
      "  File \"<ipython-input-9-361b7c619854>\", line 10, in processData\n",
      "ValueError: invalid literal for int() with base 10: \"'\"\n"
     ]
    },
    {
     "name": "stdout",
     "output_type": "stream",
     "text": [
      "Received data: user-a UserA_result:5:['h', '1', 'h', 'h', 'h']\n"
     ]
    }
   ],
   "source": [
    "#Implementing error control\n",
    "client.publish(AIO_FEED_ID_1, \"UserA:\"+str(size_of_msg)+':'+ str(random_bases_A))\n",
    "client.publish(AIO_FEED_ID_1, \"UserB:\"+str(size_of_msg)+':'+ str(random_bases_B))"
   ]
  },
  {
   "cell_type": "markdown",
   "id": "2cea8fa3",
   "metadata": {},
   "source": [
    "## Creating the key\n",
    "### After getting the result from the interface, A will announce his/her bases to B and will receive it back from B. After that all we need is to compare and create the key"
   ]
  },
  {
   "cell_type": "code",
   "execution_count": 1,
   "id": "bbf4aea3",
   "metadata": {},
   "outputs": [],
   "source": [
    "def create_key(A_bases, B_bases, A_result):\n",
    "    key = []\n",
    "    for i in range(len(A_bases)):\n",
    "        if(A_bases[i] == B_bases[i]):\n",
    "            if(A_result[i] != 'h'):\n",
    "                key.append(A_result[i])\n",
    "    return key"
   ]
  }
 ],
 "metadata": {
  "kernelspec": {
   "display_name": "Python 3",
   "language": "python",
   "name": "python3"
  },
  "language_info": {
   "codemirror_mode": {
    "name": "ipython",
    "version": 3
   },
   "file_extension": ".py",
   "mimetype": "text/x-python",
   "name": "python",
   "nbconvert_exporter": "python",
   "pygments_lexer": "ipython3",
   "version": "3.8.3"
  }
 },
 "nbformat": 4,
 "nbformat_minor": 5
}
