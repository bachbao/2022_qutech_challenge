{
 "cells": [
  {
   "cell_type": "markdown",
   "id": "84f4badf",
   "metadata": {},
   "source": [
    "# Intermediate interface "
   ]
  },
  {
   "cell_type": "markdown",
   "id": "bb04f6d4",
   "metadata": {},
   "source": [
    "## Aim of this is notebook is to create an interface that can help create key between two user"
   ]
  },
  {
   "cell_type": "markdown",
   "id": "dd5593d5",
   "metadata": {},
   "source": [
    "## Explanation\n",
    "    * Alice will generate a bases (Alice will create)\n",
    "    * Alice send the bases to the interface \n",
    "    * Bob will generate a bases (Bob will create)\n",
    "    * Bob send the bases to the interface    \n",
    "    * Interface now generate a random initial states and measure it with Alice and Bob bases\n",
    "    * Interface return the measured value to Alice and Bob\n",
    "    * Alice and Bob annouce their bases through MQTT server \n",
    "    * They create a key from the measured value by comparing the bases and eliminate the garbage bits\n",
    "    * After having the key, they can create encrypted msg with the key and send to each other"
   ]
  },
  {
   "cell_type": "markdown",
   "id": "e42e078b",
   "metadata": {},
   "source": [
    "# Intermediate Inteface  main function"
   ]
  },
  {
   "cell_type": "code",
   "execution_count": 3,
   "id": "a4ae1338",
   "metadata": {},
   "outputs": [],
   "source": [
    "import numpy as np\n",
    "import os\n",
    "\n",
    "from qiskit.tools.visualization import circuit_drawer, plot_histogram\n",
    "from qiskit import execute, QuantumCircuit, QuantumRegister, ClassicalRegister\n",
    "from qiskit import BasicAer\n",
    "from IPython.display import display, Math, Latex\n",
    "\n",
    "from quantuminspire.credentials import get_authentication\n",
    "from quantuminspire.api import QuantumInspireAPI\n",
    "from quantuminspire.qiskit import QI\n",
    "\n",
    "QI_URL = os.getenv('183033b2e8fe77a4c598e44fdc1a0c9486bd1683', 'https://api.quantum-inspire.com/')"
   ]
  },
  {
   "cell_type": "code",
   "execution_count": 4,
   "id": "d7e1e50c",
   "metadata": {},
   "outputs": [],
   "source": [
    "import numpy as np\n",
    "from qiskit import*"
   ]
  },
  {
   "cell_type": "markdown",
   "id": "dbb3b0b4",
   "metadata": {},
   "source": [
    "## Input value to the intermediate interface (these cells are here to test the main function of interface only)"
   ]
  },
  {
   "cell_type": "code",
   "execution_count": 5,
   "id": "b82a43de",
   "metadata": {},
   "outputs": [],
   "source": [
    "def SenderA_random_bases(size):\n",
    "    np.random.seed(size)\n",
    "    random_bases = np.random.randint(2, size=size) # Here we let bases = 0,1 corresponding to bases X,Z\n",
    "    return random_bases"
   ]
  },
  {
   "cell_type": "code",
   "execution_count": 6,
   "id": "2d6c44ad",
   "metadata": {},
   "outputs": [],
   "source": [
    "def SenderB_random_bases(size):\n",
    "    np.random.seed(size+1)\n",
    "    random_bases = np.random.randint(2, size=size) # Here we let bases = 0,1 corresponding to bases X,Z\n",
    "    return random_bases"
   ]
  },
  {
   "cell_type": "markdown",
   "id": "b83b75b5",
   "metadata": {},
   "source": [
    "## Intermediate interface inner function"
   ]
  },
  {
   "cell_type": "code",
   "execution_count": 7,
   "id": "b8a3d2bd",
   "metadata": {},
   "outputs": [],
   "source": [
    "#### Create initial random state ###########################################################\n",
    "def Inteface_intial_random_state(size, seed):\n",
    "    np.random.seed(seed)\n",
    "    random_msg = np.random.randint(4, size=size)\n",
    "    return random_msg"
   ]
  },
  {
   "cell_type": "code",
   "execution_count": 8,
   "id": "8f8cb6df",
   "metadata": {},
   "outputs": [],
   "source": [
    "def Intial_state_generation(qc,state,index):\n",
    "    if(state == 0):\n",
    "        pass\n",
    "    elif(state == 1):\n",
    "        qc.x(index)\n",
    "    elif(state == 2):\n",
    "        qc.h(index)\n",
    "    else:\n",
    "        qc.x(index)\n",
    "        qc.h(index)"
   ]
  },
  {
   "cell_type": "code",
   "execution_count": 9,
   "id": "a624074e",
   "metadata": {},
   "outputs": [],
   "source": [
    "def Measurement_generation(qc,measure,index):\n",
    "    if(measure == 0):\n",
    "        qc.h(index)"
   ]
  },
  {
   "cell_type": "code",
   "execution_count": 10,
   "id": "4a978727",
   "metadata": {},
   "outputs": [],
   "source": [
    "#### Create quantum circuits with according intial states and measurement bases ###########################################################\n",
    "def create_qc_measurement_bases(intial_state, base):\n",
    "    qc = QuantumCircuit(2,2)\n",
    "    for i in range(len(intial_state)):\n",
    "        Intial_state_generation(qc,intial_state[i],i)\n",
    "    for i in range(len(base)):\n",
    "        Measurement_generation(qc,base[i],i)\n",
    "    qc.draw()\n",
    "    return qc"
   ]
  },
  {
   "cell_type": "code",
   "execution_count": 11,
   "id": "87b3237e",
   "metadata": {},
   "outputs": [],
   "source": [
    "#### Intialize the random state, combine the bases, create the quantum circuits #############################################################\n",
    "def Intermediate_interface(SenderA_bases, SenderB_bases, size_of_message, number_of_user):\n",
    "    intial_state = Inteface_intial_random_state(2*size_of_message, 2*size_of_message+1)\n",
    "    print(intial_state)\n",
    "    bases_combination = [*SenderA_bases,*SenderB_bases]\n",
    "    print(bases_combination)\n",
    "    encrypted_message = []\n",
    "    for i in range(size_of_message):\n",
    "        qc = create_qc_measurement_bases([intial_state[i],intial_state[i+size_of_message]],[bases_combination[i],bases_combination[i+size_of_message]])\n",
    "        for i in range(number_of_user):\n",
    "            qc.measure(i,i)\n",
    "        encrypted_message.append(qc)\n",
    "    return encrypted_message"
   ]
  },
  {
   "cell_type": "code",
   "execution_count": 12,
   "id": "79497a68",
   "metadata": {},
   "outputs": [],
   "source": [
    "##### Intermediate Interface send job to Quantum Inspire ############################################################\n",
    "def run_quantum_inspire(encrypted_message):\n",
    "    bases = Inteface_intial_random_state(len(encrypted_message),len(encrypted_message)+2)\n",
    "    qi_backend = QI.get_backend('QX-34-L')\n",
    "    j = execute(encrypted_message, backend=qi_backend, shots=512)\n",
    "    result = j.result()\n",
    "    return result"
   ]
  },
  {
   "cell_type": "code",
   "execution_count": 13,
   "id": "63c9c1aa",
   "metadata": {},
   "outputs": [],
   "source": [
    "##### Parsing the result from the Quantum Inspire ############################################################\n",
    "def return_message(counts):\n",
    "    message_A = [0]*len(counts)\n",
    "    message_B = [0]*len(counts)\n",
    "    for i in range (len(counts)):\n",
    "        key_list = list(count[i].keys())\n",
    "        for j in key_list:\n",
    "            if message_A[i] == 0:\n",
    "                message_A[i] = j[0]\n",
    "            elif ((message_A[i] != 0) & (message_A[i] != j[0])):\n",
    "                message_A[i] = 'h'\n",
    "            \n",
    "            if message_B[i] == 0:\n",
    "                message_B[i] = j[1]\n",
    "            elif ((message_B[i] != 0) & (message_B[i] != j[1])):\n",
    "                message_B[i] = 'h'\n",
    "    return message_A, message_B"
   ]
  },
  {
   "cell_type": "markdown",
   "id": "d50a7523",
   "metadata": {},
   "source": [
    "## Example of what Intermediate interface will do"
   ]
  },
  {
   "cell_type": "code",
   "execution_count": 14,
   "id": "cda83195",
   "metadata": {},
   "outputs": [],
   "source": [
    "size_of_message = 5\n",
    "number_of_user = 2"
   ]
  },
  {
   "cell_type": "code",
   "execution_count": 15,
   "id": "79ea714f",
   "metadata": {},
   "outputs": [
    {
     "name": "stdout",
     "output_type": "stream",
     "text": [
      "[1 0 1 1 0]\n"
     ]
    }
   ],
   "source": [
    "senA = SenderA_random_bases(size_of_message)\n",
    "print(senA)"
   ]
  },
  {
   "cell_type": "code",
   "execution_count": 16,
   "id": "1f830672",
   "metadata": {},
   "outputs": [
    {
     "name": "stdout",
     "output_type": "stream",
     "text": [
      "[0 1 1 0 0]\n"
     ]
    }
   ],
   "source": [
    "senB = SenderB_random_bases(size_of_message)\n",
    "print(senB)"
   ]
  },
  {
   "cell_type": "code",
   "execution_count": 17,
   "id": "7600bc46",
   "metadata": {},
   "outputs": [
    {
     "name": "stdout",
     "output_type": "stream",
     "text": [
      "[1 3 0 3 1 3 1 0 1 3]\n",
      "[1, 0, 1, 1, 0, 0, 1, 1, 0, 0]\n"
     ]
    }
   ],
   "source": [
    "encrypt = Intermediate_interface(senA,senB,size_of_message,number_of_user)"
   ]
  },
  {
   "cell_type": "code",
   "execution_count": 31,
   "id": "8fb4f594",
   "metadata": {},
   "outputs": [
    {
     "data": {
      "text/html": [
       "<pre style=\"word-wrap: normal;white-space: pre;background: #fff0;line-height: 1.1;font-family: &quot;Courier New&quot;,Courier,monospace\">     ┌───┐     ┌─┐        \n",
       "q_0: ┤ X ├─────┤M├────────\n",
       "     ├───┤┌───┐└╥┘┌───┐┌─┐\n",
       "q_1: ┤ X ├┤ H ├─╫─┤ H ├┤M├\n",
       "     └───┘└───┘ ║ └───┘└╥┘\n",
       "c: 2/═══════════╩═══════╩═\n",
       "                0       1 </pre>"
      ],
      "text/plain": [
       "     ┌───┐     ┌─┐        \n",
       "q_0: ┤ X ├─────┤M├────────\n",
       "     ├───┤┌───┐└╥┘┌───┐┌─┐\n",
       "q_1: ┤ X ├┤ H ├─╫─┤ H ├┤M├\n",
       "     └───┘└───┘ ║ └───┘└╥┘\n",
       "c: 2/═══════════╩═══════╩═\n",
       "                0       1 "
      ]
     },
     "execution_count": 31,
     "metadata": {},
     "output_type": "execute_result"
    }
   ],
   "source": [
    "encrypt[0].draw()"
   ]
  },
  {
   "cell_type": "code",
   "execution_count": 19,
   "id": "be5f1dd5",
   "metadata": {},
   "outputs": [
    {
     "name": "stdout",
     "output_type": "stream",
     "text": [
      "Enter email:\n",
      "bao.bachbbace12@hcmut.edu.vn\n",
      "Enter password\n",
      "········\n"
     ]
    }
   ],
   "source": [
    "authentication = get_authentication()\n",
    "QI.set_authentication(authentication, QI_URL)"
   ]
  },
  {
   "cell_type": "code",
   "execution_count": 32,
   "id": "abc9fac6",
   "metadata": {},
   "outputs": [],
   "source": [
    "result = run_quantum_inspire(encrypt)\n",
    "count = result.get_counts()"
   ]
  },
  {
   "cell_type": "code",
   "execution_count": 33,
   "id": "e6cf1d01",
   "metadata": {},
   "outputs": [
    {
     "data": {
      "text/plain": [
       "[{'11': 512},\n",
       " {'11': 512},\n",
       " {'00': 512},\n",
       " {'00': 145, '01': 126, '10': 118, '11': 123},\n",
       " {'10': 254, '11': 258}]"
      ]
     },
     "execution_count": 33,
     "metadata": {},
     "output_type": "execute_result"
    }
   ],
   "source": [
    "count"
   ]
  },
  {
   "cell_type": "code",
   "execution_count": 34,
   "id": "2d42d4da",
   "metadata": {},
   "outputs": [],
   "source": [
    "msg_a,msgb = return_message(count)"
   ]
  },
  {
   "cell_type": "code",
   "execution_count": 35,
   "id": "65b9449a",
   "metadata": {},
   "outputs": [
    {
     "data": {
      "text/plain": [
       "['1', '1', '0', 'h', '1']"
      ]
     },
     "execution_count": 35,
     "metadata": {},
     "output_type": "execute_result"
    }
   ],
   "source": [
    "msg_a"
   ]
  },
  {
   "cell_type": "code",
   "execution_count": 36,
   "id": "615dca78",
   "metadata": {},
   "outputs": [
    {
     "data": {
      "text/plain": [
       "['1', '1', '0', 'h', 'h']"
      ]
     },
     "execution_count": 36,
     "metadata": {},
     "output_type": "execute_result"
    }
   ],
   "source": [
    "msgb"
   ]
  },
  {
   "cell_type": "markdown",
   "id": "15e591a1",
   "metadata": {},
   "source": [
    "# Transmitting protocol\n",
    "### We are using MQTT protocol which can give us the ability to subcribe to a feed. By subcribing to the feed, we will receive the data whenever there is a new data that is published to that feed the clear idea is written in readme file"
   ]
  },
  {
   "cell_type": "code",
   "execution_count": 37,
   "id": "d703cfd6",
   "metadata": {},
   "outputs": [],
   "source": [
    "import sys\n",
    "from Adafruit_IO import MQTTClient\n",
    "import random\n",
    "import time\n",
    "import serial.tools.list_ports"
   ]
  },
  {
   "cell_type": "code",
   "execution_count": 38,
   "id": "6fd61ab6",
   "metadata": {},
   "outputs": [],
   "source": [
    "AIO_FEED_ID_1 = \"intermediate-interface\"\n",
    "AIO_FEED_ID_A = \"user-a\"\n",
    "AIO_FEED_ID_B = \"user-b\"\n",
    "AIO_USERNAME = \"bbace\"\n",
    "AIO_KEY = \"aio_bPYP32NOKkrTiko7nYSwDr9YlTfz\""
   ]
  },
  {
   "cell_type": "code",
   "execution_count": 39,
   "id": "2a4aae3c",
   "metadata": {},
   "outputs": [],
   "source": [
    "##### Process data from the feed then save the bases ############################################################\n",
    "def processData(data):\n",
    "    global A_bases_buffer\n",
    "    global B_bases_buffer\n",
    "    global size_of_msg\n",
    "    splitData = data.split(\":\")\n",
    "    if(splitData[0] == 'UserA'):\n",
    "        size_of_msg = int(splitData[1])\n",
    "        c = 1\n",
    "        for i in range(size_of_msg):\n",
    "            A_bases_buffer.append(int(splitData[2][i+c]))\n",
    "            c += 1\n",
    "    elif(splitData[0] == 'UserB'):\n",
    "        size_of_msg = int(splitData[1])\n",
    "        c = 1\n",
    "        for i in range(size_of_msg):\n",
    "            B_bases_buffer.append(int(splitData[2][i+c]))\n",
    "            c += 1"
   ]
  },
  {
   "cell_type": "code",
   "execution_count": 40,
   "id": "8277a0f8",
   "metadata": {},
   "outputs": [],
   "source": [
    "def connected( client ):\n",
    "    print (\"Successfully connected ...\")\n",
    "    client.subscribe (\"intermediate-interface\")\n",
    "def subscribe( client , userdata , mid , granted_qos ):\n",
    "    print(\" Subcribe sucessfully...\")\n",
    "\n",
    "def disconnected( client ):\n",
    "    print(\" Disconnected...\")\n",
    "    sys.exit (1)\n",
    "##### Whenever there is a new data in feed, this function will call ############################################################\n",
    "def message(client , feed_id , payload):\n",
    "    global count\n",
    "    global A_bases_buffer\n",
    "    global B_bases_buffer\n",
    "    print(\"Received data: \"+ feed_id +\" \"+payload)\n",
    "    count = count + 1\n",
    "    processData(payload)\n",
    "#     print(A_bases_buffer)\n",
    "#     print(B_bases_buffer)\n",
    "#     print(count)"
   ]
  },
  {
   "cell_type": "code",
   "execution_count": 41,
   "id": "f62489b7",
   "metadata": {},
   "outputs": [],
   "source": [
    "A_bases_buffer = []\n",
    "B_bases_buffer = []\n",
    "size_of_msg = 0\n",
    "count = 0"
   ]
  },
  {
   "cell_type": "markdown",
   "id": "45a41ba6",
   "metadata": {},
   "source": [
    "## Main process of the MQTT protocol using Adafruit server to implement QKD\n",
    "### The process tend to run 24/7 and always checking for the data"
   ]
  },
  {
   "cell_type": "code",
   "execution_count": 42,
   "id": "5983072a",
   "metadata": {},
   "outputs": [
    {
     "name": "stdout",
     "output_type": "stream",
     "text": [
      "Connected to Adafruit IO!\n",
      "Successfully connected ...\n",
      " Subcribe sucessfully...\n",
      "Received data: intermediate-interface UserA:5:[0 1 1 0 1]\n",
      "Received data: intermediate-interface UserB:5:[1 1 0 0 1]\n",
      "[1 3 0 3 1 3 1 0 1 3]\n",
      "[0, 1, 1, 0, 1, 1, 1, 0, 0, 1]\n",
      "['h', '1', 'h', 'h', 'h']\n",
      "['h', 'h', '0', '1', '1']\n"
     ]
    },
    {
     "ename": "KeyboardInterrupt",
     "evalue": "",
     "output_type": "error",
     "traceback": [
      "\u001b[1;31m---------------------------------------------------------------------------\u001b[0m",
      "\u001b[1;31mKeyboardInterrupt\u001b[0m                         Traceback (most recent call last)",
      "\u001b[1;32m<ipython-input-42-51976ace7d1d>\u001b[0m in \u001b[0;36m<module>\u001b[1;34m\u001b[0m\n\u001b[0;32m      8\u001b[0m \u001b[1;32mwhile\u001b[0m \u001b[1;32mTrue\u001b[0m \u001b[1;33m:\u001b[0m\u001b[1;33m\u001b[0m\u001b[1;33m\u001b[0m\u001b[0m\n\u001b[0;32m      9\u001b[0m \u001b[1;31m############## When already get the data of all user, start the function of intermediate interface then return result#################\u001b[0m\u001b[1;33m\u001b[0m\u001b[1;33m\u001b[0m\u001b[1;33m\u001b[0m\u001b[0m\n\u001b[1;32m---> 10\u001b[1;33m     \u001b[1;32mif\u001b[0m\u001b[1;33m(\u001b[0m\u001b[0mcount\u001b[0m \u001b[1;33m==\u001b[0m \u001b[0mnumber_of_user\u001b[0m\u001b[1;33m)\u001b[0m\u001b[1;33m:\u001b[0m\u001b[1;33m\u001b[0m\u001b[1;33m\u001b[0m\u001b[0m\n\u001b[0m\u001b[0;32m     11\u001b[0m         \u001b[0mencrypt\u001b[0m \u001b[1;33m=\u001b[0m \u001b[0mIntermediate_interface\u001b[0m\u001b[1;33m(\u001b[0m\u001b[0mA_bases_buffer\u001b[0m\u001b[1;33m,\u001b[0m\u001b[0mB_bases_buffer\u001b[0m\u001b[1;33m,\u001b[0m\u001b[0msize_of_msg\u001b[0m\u001b[1;33m,\u001b[0m\u001b[0mnumber_of_user\u001b[0m\u001b[1;33m)\u001b[0m\u001b[1;33m\u001b[0m\u001b[1;33m\u001b[0m\u001b[0m\n\u001b[0;32m     12\u001b[0m         \u001b[0mresult\u001b[0m  \u001b[1;33m=\u001b[0m \u001b[0mrun_quantum_inspire\u001b[0m\u001b[1;33m(\u001b[0m\u001b[0mencrypt\u001b[0m\u001b[1;33m)\u001b[0m\u001b[1;33m\u001b[0m\u001b[1;33m\u001b[0m\u001b[0m\n",
      "\u001b[1;31mKeyboardInterrupt\u001b[0m: "
     ]
    }
   ],
   "source": [
    "client = MQTTClient(AIO_USERNAME , AIO_KEY)\n",
    "client.on_connect    = connected\n",
    "client.on_disconnect = disconnected\n",
    "client.on_message    = message\n",
    "client.on_subscribe  = subscribe\n",
    "client.connect()\n",
    "client.loop_background()\n",
    "while True :\n",
    "############## When already get the data of all user, start the function of intermediate interface then return result#################\n",
    "    if(count == number_of_user): \n",
    "        encrypt = Intermediate_interface(A_bases_buffer,B_bases_buffer,size_of_msg,number_of_user)\n",
    "        result  = run_quantum_inspire(encrypt)\n",
    "        count = result.get_counts()\n",
    "        msg_a,msg_b = return_message(count)\n",
    "        print(msg_a)\n",
    "        print(msg_b)\n",
    "        client.publish(AIO_FEED_ID_A, \"UserA_result:\"+str(size_of_msg)+':'+str(msg_a))\n",
    "        client.publish(AIO_FEED_ID_B, \"UserB_result:\"+str(size_of_msg)+':'+str(msg_b))\n",
    "        \n",
    "        ## Restart the buffer\n",
    "        A_bases_buffer = []\n",
    "        B_bases_buffer = []\n",
    "        size_of_msg = 0\n",
    "        count = 0"
   ]
  }
 ],
 "metadata": {
  "kernelspec": {
   "display_name": "Python 3",
   "language": "python",
   "name": "python3"
  },
  "language_info": {
   "codemirror_mode": {
    "name": "ipython",
    "version": 3
   },
   "file_extension": ".py",
   "mimetype": "text/x-python",
   "name": "python",
   "nbconvert_exporter": "python",
   "pygments_lexer": "ipython3",
   "version": "3.8.3"
  }
 },
 "nbformat": 4,
 "nbformat_minor": 5
}
